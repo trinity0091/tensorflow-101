{
 "cells": [
  {
   "cell_type": "code",
   "execution_count": 1,
   "id": "southern-december",
   "metadata": {},
   "outputs": [],
   "source": [
    "import pandas as pd\n",
    "import math"
   ]
  },
  {
   "cell_type": "code",
   "execution_count": 2,
   "id": "harmful-province",
   "metadata": {},
   "outputs": [],
   "source": [
    "# dataset source: https://github.com/davestroud/BeerStudy/blob/master/Beers.csv\n",
    "beers = pd.read_csv(\"Beers.csv\")"
   ]
  },
  {
   "cell_type": "markdown",
   "id": "comparative-application",
   "metadata": {},
   "source": [
    "# IBU\n",
    "\n",
    "We are going to focus on international bitternes unit (ibu) score on two different samples"
   ]
  },
  {
   "cell_type": "code",
   "execution_count": 3,
   "id": "necessary-third",
   "metadata": {},
   "outputs": [],
   "source": [
    "beers = beers[~beers[\"IBU\"].isna()]"
   ]
  },
  {
   "cell_type": "code",
   "execution_count": 4,
   "id": "handled-shirt",
   "metadata": {},
   "outputs": [
    {
     "data": {
      "text/html": [
       "<div>\n",
       "<style scoped>\n",
       "    .dataframe tbody tr th:only-of-type {\n",
       "        vertical-align: middle;\n",
       "    }\n",
       "\n",
       "    .dataframe tbody tr th {\n",
       "        vertical-align: top;\n",
       "    }\n",
       "\n",
       "    .dataframe thead th {\n",
       "        text-align: right;\n",
       "    }\n",
       "</style>\n",
       "<table border=\"1\" class=\"dataframe\">\n",
       "  <thead>\n",
       "    <tr style=\"text-align: right;\">\n",
       "      <th></th>\n",
       "      <th>Name</th>\n",
       "      <th>Beer_ID</th>\n",
       "      <th>ABV</th>\n",
       "      <th>IBU</th>\n",
       "      <th>Brewery_id</th>\n",
       "      <th>Style</th>\n",
       "      <th>Ounces</th>\n",
       "    </tr>\n",
       "  </thead>\n",
       "  <tbody>\n",
       "    <tr>\n",
       "      <th>14</th>\n",
       "      <td>Bitter Bitch</td>\n",
       "      <td>1979</td>\n",
       "      <td>0.061</td>\n",
       "      <td>60.0</td>\n",
       "      <td>178</td>\n",
       "      <td>American Pale Ale (APA)</td>\n",
       "      <td>12.0</td>\n",
       "    </tr>\n",
       "    <tr>\n",
       "      <th>21</th>\n",
       "      <td>Lower De Boom</td>\n",
       "      <td>1036</td>\n",
       "      <td>0.099</td>\n",
       "      <td>92.0</td>\n",
       "      <td>369</td>\n",
       "      <td>American Barleywine</td>\n",
       "      <td>8.4</td>\n",
       "    </tr>\n",
       "    <tr>\n",
       "      <th>22</th>\n",
       "      <td>Fireside Chat</td>\n",
       "      <td>1024</td>\n",
       "      <td>0.079</td>\n",
       "      <td>45.0</td>\n",
       "      <td>369</td>\n",
       "      <td>Winter Warmer</td>\n",
       "      <td>12.0</td>\n",
       "    </tr>\n",
       "    <tr>\n",
       "      <th>24</th>\n",
       "      <td>Bitter American</td>\n",
       "      <td>876</td>\n",
       "      <td>0.044</td>\n",
       "      <td>42.0</td>\n",
       "      <td>369</td>\n",
       "      <td>American Pale Ale (APA)</td>\n",
       "      <td>12.0</td>\n",
       "    </tr>\n",
       "    <tr>\n",
       "      <th>25</th>\n",
       "      <td>Hell or High Watermelon Wheat (2009)</td>\n",
       "      <td>802</td>\n",
       "      <td>0.049</td>\n",
       "      <td>17.0</td>\n",
       "      <td>369</td>\n",
       "      <td>Fruit / Vegetable Beer</td>\n",
       "      <td>12.0</td>\n",
       "    </tr>\n",
       "  </tbody>\n",
       "</table>\n",
       "</div>"
      ],
      "text/plain": [
       "                                    Name  Beer_ID    ABV   IBU  Brewery_id  \\\n",
       "14                          Bitter Bitch     1979  0.061  60.0         178   \n",
       "21                         Lower De Boom     1036  0.099  92.0         369   \n",
       "22                         Fireside Chat     1024  0.079  45.0         369   \n",
       "24                       Bitter American      876  0.044  42.0         369   \n",
       "25  Hell or High Watermelon Wheat (2009)      802  0.049  17.0         369   \n",
       "\n",
       "                      Style  Ounces  \n",
       "14  American Pale Ale (APA)    12.0  \n",
       "21      American Barleywine     8.4  \n",
       "22            Winter Warmer    12.0  \n",
       "24  American Pale Ale (APA)    12.0  \n",
       "25   Fruit / Vegetable Beer    12.0  "
      ]
     },
     "execution_count": 4,
     "metadata": {},
     "output_type": "execute_result"
    }
   ],
   "source": [
    "beers.head()"
   ]
  },
  {
   "cell_type": "code",
   "execution_count": 5,
   "id": "extended-hotel",
   "metadata": {},
   "outputs": [],
   "source": [
    "#list(beers[\"Style\"].unique())"
   ]
  },
  {
   "cell_type": "markdown",
   "id": "ethical-vanilla",
   "metadata": {},
   "source": [
    "# Collect two independent samples\n",
    "\n",
    "They should have normal distribution\n",
    "\n",
    "They should be same sized samples"
   ]
  },
  {
   "cell_type": "code",
   "execution_count": 6,
   "id": "local-money",
   "metadata": {},
   "outputs": [],
   "source": [
    "sample_one_type = \"Czech Pilsener\"\n",
    "sample_two_type = \"American Pale Ale (APA)\"\n",
    "\n",
    "sample_size = 10"
   ]
  },
  {
   "cell_type": "markdown",
   "id": "ranking-things",
   "metadata": {},
   "source": [
    "I will drink 10 pilsener and ale beers randomly and compare their bitterness\n",
    "\n",
    "The question is that is there a difference on the bitterness between those two samples"
   ]
  },
  {
   "cell_type": "code",
   "execution_count": 7,
   "id": "elect-graduate",
   "metadata": {},
   "outputs": [],
   "source": [
    "sample_one = beers[beers[\"Style\"] == sample_one_type][\"IBU\"].sample(sample_size, random_state = 17)"
   ]
  },
  {
   "cell_type": "code",
   "execution_count": 8,
   "id": "surrounded-engine",
   "metadata": {},
   "outputs": [],
   "source": [
    "sample_two = beers[beers[\"Style\"] == sample_two_type][\"IBU\"].sample(sample_size, random_state = 17)"
   ]
  },
  {
   "cell_type": "code",
   "execution_count": 9,
   "id": "dental-transmission",
   "metadata": {},
   "outputs": [
    {
     "data": {
      "text/plain": [
       "<AxesSubplot:title={'center':'IBU'}, ylabel='Density'>"
      ]
     },
     "execution_count": 9,
     "metadata": {},
     "output_type": "execute_result"
    },
    {
     "data": {
      "image/png": "[encoded data removed]",
      "text/plain": [
       "<Figure size 432x288 with 1 Axes>"
      ]
     },
     "metadata": {
      "needs_background": "light"
     },
     "output_type": "display_data"
    }
   ],
   "source": [
    "sample_one.plot(kind='kde', title = 'IBU', label = sample_one_type, legend = True)\n",
    "sample_two.plot(kind='kde', title = 'IBU', label = sample_two_type, legend = True)"
   ]
  },
  {
   "cell_type": "code",
   "execution_count": 10,
   "id": "interracial-affair",
   "metadata": {},
   "outputs": [
    {
     "data": {
      "text/plain": [
       "34.9"
      ]
     },
     "execution_count": 10,
     "metadata": {},
     "output_type": "execute_result"
    }
   ],
   "source": [
    "sample_one.mean()"
   ]
  },
  {
   "cell_type": "code",
   "execution_count": 11,
   "id": "endangered-original",
   "metadata": {},
   "outputs": [
    {
     "data": {
      "text/plain": [
       "42.9"
      ]
     },
     "execution_count": 11,
     "metadata": {},
     "output_type": "execute_result"
    }
   ],
   "source": [
    "sample_two.mean()"
   ]
  },
  {
   "cell_type": "code",
   "execution_count": 12,
   "id": "freelance-oliver",
   "metadata": {},
   "outputs": [],
   "source": [
    "t_value = abs(sample_one.mean() - sample_two.mean()) \n",
    "t_value = t_value / math.sqrt(((sample_two.std() ** 2) \n",
    "                               / sample_two.shape[0]) + ((sample_one.std() ** 2) / sample_one.shape[0]))"
   ]
  },
  {
   "cell_type": "code",
   "execution_count": 13,
   "id": "julian-discharge",
   "metadata": {},
   "outputs": [
    {
     "data": {
      "text/plain": [
       "1.63005266343755"
      ]
     },
     "execution_count": 13,
     "metadata": {},
     "output_type": "execute_result"
    }
   ],
   "source": [
    "t_value"
   ]
  },
  {
   "cell_type": "markdown",
   "id": "patient-microwave",
   "metadata": {},
   "source": [
    "# T-distribution"
   ]
  },
  {
   "cell_type": "code",
   "execution_count": 14,
   "id": "northern-twist",
   "metadata": {},
   "outputs": [],
   "source": [
    "# dataset source: https://github.com/serengil/tensorflow-101/blob/master/dataset/t_distribution.csv\n",
    "t_dist = pd.read_csv(\"t_distribution.csv\")"
   ]
  },
  {
   "cell_type": "code",
   "execution_count": 22,
   "id": "meaningful-siemens",
   "metadata": {},
   "outputs": [
    {
     "data": {
      "text/html": [
       "<div>\n",
       "<style scoped>\n",
       "    .dataframe tbody tr th:only-of-type {\n",
       "        vertical-align: middle;\n",
       "    }\n",
       "\n",
       "    .dataframe tbody tr th {\n",
       "        vertical-align: top;\n",
       "    }\n",
       "\n",
       "    .dataframe thead th {\n",
       "        text-align: right;\n",
       "    }\n",
       "</style>\n",
       "<table border=\"1\" class=\"dataframe\">\n",
       "  <thead>\n",
       "    <tr style=\"text-align: right;\">\n",
       "      <th></th>\n",
       "      <th>degrees_of_freedom</th>\n",
       "      <th>p_0.20</th>\n",
       "      <th>p_0.10</th>\n",
       "      <th>p_0.05</th>\n",
       "      <th>p_0.02</th>\n",
       "      <th>p_0.01</th>\n",
       "      <th>p_0.005</th>\n",
       "      <th>p_0.002</th>\n",
       "      <th>p_0.001</th>\n",
       "    </tr>\n",
       "  </thead>\n",
       "  <tbody>\n",
       "    <tr>\n",
       "      <th>0</th>\n",
       "      <td>1.0</td>\n",
       "      <td>3.078</td>\n",
       "      <td>6.314</td>\n",
       "      <td>12.706</td>\n",
       "      <td>31.820</td>\n",
       "      <td>63.657</td>\n",
       "      <td>127.321</td>\n",
       "      <td>318.309</td>\n",
       "      <td>636.619</td>\n",
       "    </tr>\n",
       "    <tr>\n",
       "      <th>1</th>\n",
       "      <td>2.0</td>\n",
       "      <td>1.886</td>\n",
       "      <td>2.920</td>\n",
       "      <td>4.303</td>\n",
       "      <td>6.965</td>\n",
       "      <td>9.925</td>\n",
       "      <td>14.089</td>\n",
       "      <td>22.327</td>\n",
       "      <td>31.599</td>\n",
       "    </tr>\n",
       "    <tr>\n",
       "      <th>2</th>\n",
       "      <td>3.0</td>\n",
       "      <td>1.638</td>\n",
       "      <td>2.353</td>\n",
       "      <td>3.182</td>\n",
       "      <td>4.541</td>\n",
       "      <td>5.841</td>\n",
       "      <td>7.453</td>\n",
       "      <td>10.215</td>\n",
       "      <td>12.924</td>\n",
       "    </tr>\n",
       "    <tr>\n",
       "      <th>3</th>\n",
       "      <td>4.0</td>\n",
       "      <td>1.533</td>\n",
       "      <td>2.132</td>\n",
       "      <td>2.776</td>\n",
       "      <td>3.747</td>\n",
       "      <td>4.604</td>\n",
       "      <td>5.598</td>\n",
       "      <td>7.173</td>\n",
       "      <td>8.610</td>\n",
       "    </tr>\n",
       "    <tr>\n",
       "      <th>4</th>\n",
       "      <td>5.0</td>\n",
       "      <td>1.476</td>\n",
       "      <td>2.015</td>\n",
       "      <td>2.571</td>\n",
       "      <td>3.365</td>\n",
       "      <td>4.032</td>\n",
       "      <td>4.773</td>\n",
       "      <td>5.893</td>\n",
       "      <td>6.869</td>\n",
       "    </tr>\n",
       "  </tbody>\n",
       "</table>\n",
       "</div>"
      ],
      "text/plain": [
       "   degrees_of_freedom  p_0.20  p_0.10  p_0.05  p_0.02  p_0.01  p_0.005  \\\n",
       "0                 1.0   3.078   6.314  12.706  31.820  63.657  127.321   \n",
       "1                 2.0   1.886   2.920   4.303   6.965   9.925   14.089   \n",
       "2                 3.0   1.638   2.353   3.182   4.541   5.841    7.453   \n",
       "3                 4.0   1.533   2.132   2.776   3.747   4.604    5.598   \n",
       "4                 5.0   1.476   2.015   2.571   3.365   4.032    4.773   \n",
       "\n",
       "   p_0.002  p_0.001  \n",
       "0  318.309  636.619  \n",
       "1   22.327   31.599  \n",
       "2   10.215   12.924  \n",
       "3    7.173    8.610  \n",
       "4    5.893    6.869  "
      ]
     },
     "execution_count": 22,
     "metadata": {},
     "output_type": "execute_result"
    }
   ],
   "source": [
    "t_dist.head()"
   ]
  },
  {
   "cell_type": "code",
   "execution_count": 16,
   "id": "grave-elizabeth",
   "metadata": {},
   "outputs": [],
   "source": [
    "degree_of_freedom = sample_one.shape[0] + sample_two.shape[0] - 2"
   ]
  },
  {
   "cell_type": "code",
   "execution_count": 17,
   "id": "continued-exception",
   "metadata": {},
   "outputs": [
    {
     "data": {
      "text/plain": [
       "18"
      ]
     },
     "execution_count": 17,
     "metadata": {},
     "output_type": "execute_result"
    }
   ],
   "source": [
    "degree_of_freedom"
   ]
  },
  {
   "cell_type": "code",
   "execution_count": 18,
   "id": "veterinary-caribbean",
   "metadata": {},
   "outputs": [
    {
     "data": {
      "text/html": [
       "<div>\n",
       "<style scoped>\n",
       "    .dataframe tbody tr th:only-of-type {\n",
       "        vertical-align: middle;\n",
       "    }\n",
       "\n",
       "    .dataframe tbody tr th {\n",
       "        vertical-align: top;\n",
       "    }\n",
       "\n",
       "    .dataframe thead th {\n",
       "        text-align: right;\n",
       "    }\n",
       "</style>\n",
       "<table border=\"1\" class=\"dataframe\">\n",
       "  <thead>\n",
       "    <tr style=\"text-align: right;\">\n",
       "      <th></th>\n",
       "      <th>degrees_of_freedom</th>\n",
       "      <th>p_0.20</th>\n",
       "      <th>p_0.10</th>\n",
       "      <th>p_0.05</th>\n",
       "      <th>p_0.02</th>\n",
       "      <th>p_0.01</th>\n",
       "      <th>p_0.005</th>\n",
       "      <th>p_0.002</th>\n",
       "      <th>p_0.001</th>\n",
       "    </tr>\n",
       "  </thead>\n",
       "  <tbody>\n",
       "    <tr>\n",
       "      <th>17</th>\n",
       "      <td>18.0</td>\n",
       "      <td>1.33</td>\n",
       "      <td>1.734</td>\n",
       "      <td>2.101</td>\n",
       "      <td>2.552</td>\n",
       "      <td>2.878</td>\n",
       "      <td>3.197</td>\n",
       "      <td>3.61</td>\n",
       "      <td>3.922</td>\n",
       "    </tr>\n",
       "  </tbody>\n",
       "</table>\n",
       "</div>"
      ],
      "text/plain": [
       "    degrees_of_freedom  p_0.20  p_0.10  p_0.05  p_0.02  p_0.01  p_0.005  \\\n",
       "17                18.0    1.33   1.734   2.101   2.552   2.878    3.197   \n",
       "\n",
       "    p_0.002  p_0.001  \n",
       "17     3.61    3.922  "
      ]
     },
     "execution_count": 18,
     "metadata": {},
     "output_type": "execute_result"
    }
   ],
   "source": [
    "t_dist[t_dist[\"degrees_of_freedom\"] == degree_of_freedom]"
   ]
  },
  {
   "cell_type": "markdown",
   "id": "clear-massage",
   "metadata": {},
   "source": [
    "# Threshold\n",
    "\n",
    "Get the threshold value for a confidence level. In science, we mostly use 0.05."
   ]
  },
  {
   "cell_type": "code",
   "execution_count": 19,
   "id": "alpine-player",
   "metadata": {},
   "outputs": [],
   "source": [
    "threshold = t_dist[t_dist[\"degrees_of_freedom\"] == degree_of_freedom][\"p_0.05\"].values[0]"
   ]
  },
  {
   "cell_type": "code",
   "execution_count": 20,
   "id": "floppy-subscriber",
   "metadata": {},
   "outputs": [
    {
     "data": {
      "text/plain": [
       "2.101"
      ]
     },
     "execution_count": 20,
     "metadata": {},
     "output_type": "execute_result"
    }
   ],
   "source": [
    "threshold"
   ]
  },
  {
   "cell_type": "markdown",
   "id": "copyrighted-allen",
   "metadata": {},
   "source": [
    "# Hypothesis"
   ]
  },
  {
   "cell_type": "code",
   "execution_count": 21,
   "id": "cosmetic-freight",
   "metadata": {},
   "outputs": [
    {
     "name": "stdout",
     "output_type": "stream",
     "text": [
      "there is no statistically significant difference between the samples\n"
     ]
    }
   ],
   "source": [
    "if t_value < threshold:\n",
    "    print(\"there is no statistically significant difference between the samples\")\n",
    "else:\n",
    "    print(\"there is statistically significant difference between the samples\")"
   ]
  },
  {
   "cell_type": "code",
   "execution_count": null,
   "id": "protected-aspect",
   "metadata": {},
   "outputs": [],
   "source": []
  }
 ],
 "metadata": {
  "kernelspec": {
   "display_name": "Python 3",
   "language": "python",
   "name": "python3"
  },
  "language_info": {
   "codemirror_mode": {
    "name": "ipython",
    "version": 3
   },
   "file_extension": ".py",
   "mimetype": "text/x-python",
   "name": "python",
   "nbconvert_exporter": "python",
   "pygments_lexer": "ipython3",
   "version": "3.8.5"
  }
 },
 "nbformat": 4,
 "nbformat_minor": 5
}
