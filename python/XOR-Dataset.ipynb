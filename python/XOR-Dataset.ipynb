{
 "cells": [
  {
   "cell_type": "code",
   "execution_count": 1,
   "id": "loose-irrigation",
   "metadata": {},
   "outputs": [],
   "source": [
    "import random\n",
    "import matplotlib.pyplot as plt\n",
    "import pandas as pd"
   ]
  },
  {
   "cell_type": "code",
   "execution_count": 6,
   "id": "altered-desert",
   "metadata": {},
   "outputs": [],
   "source": [
    "x_values = []; y_values = []; targets = []\n",
    "\n",
    "for i in range(0, 4):\n",
    "    \n",
    "    if i == 0:\n",
    "        sign_x = 1; sign_y = 1\n",
    "        target = 1\n",
    "    elif i == 1:\n",
    "        sign_x = -1; sign_y = 1\n",
    "        target = 0\n",
    "    elif i == 2:\n",
    "        sign_x = -1; sign_y = -1\n",
    "        target = 1\n",
    "    elif i == 3:\n",
    "        sign_x = 1; sign_y = -1\n",
    "        target = 0\n",
    "    \n",
    "    for j in range(0, 100):\n",
    "        value_x = (5 + random.randint(0, 100)) * sign_x\n",
    "        value_y = (5 + random.randint(0, 100)) * sign_y\n",
    "        \n",
    "        x_values.append(value_x)\n",
    "        y_values.append(value_y)\n",
    "        targets.append(target)"
   ]
  },
  {
   "cell_type": "code",
   "execution_count": 7,
   "id": "asian-edition",
   "metadata": {},
   "outputs": [],
   "source": [
    "df = pd.DataFrame(x_values, columns = [\"x\"])\n",
    "df[\"y\"] = y_values\n",
    "df[\"Decision\"] = targets"
   ]
  },
  {
   "cell_type": "code",
   "execution_count": 8,
   "id": "pleasant-content",
   "metadata": {},
   "outputs": [
    {
     "data": {
      "image/png": "[encoded data removed]",
      "text/plain": [
       "<Figure size 432x288 with 1 Axes>"
      ]
     },
     "metadata": {
      "needs_background": "light"
     },
     "output_type": "display_data"
    }
   ],
   "source": [
    "for target in df[\"Decision\"].unique():\n",
    "    sub_df = df[df[\"Decision\"] == target]\n",
    "    \n",
    "    if target == 1:\n",
    "        color = 'blue'\n",
    "    else:\n",
    "        color = 'orange'\n",
    "    \n",
    "    plt.scatter(sub_df['x'], sub_df['y'], c = color)"
   ]
  },
  {
   "cell_type": "code",
   "execution_count": 9,
   "id": "concerned-continuity",
   "metadata": {},
   "outputs": [
    {
     "data": {
      "text/html": [
       "<div>\n",
       "<style scoped>\n",
       "    .dataframe tbody tr th:only-of-type {\n",
       "        vertical-align: middle;\n",
       "    }\n",
       "\n",
       "    .dataframe tbody tr th {\n",
       "        vertical-align: top;\n",
       "    }\n",
       "\n",
       "    .dataframe thead th {\n",
       "        text-align: right;\n",
       "    }\n",
       "</style>\n",
       "<table border=\"1\" class=\"dataframe\">\n",
       "  <thead>\n",
       "    <tr style=\"text-align: right;\">\n",
       "      <th></th>\n",
       "      <th>x</th>\n",
       "      <th>y</th>\n",
       "      <th>Decision</th>\n",
       "    </tr>\n",
       "  </thead>\n",
       "  <tbody>\n",
       "    <tr>\n",
       "      <th>0</th>\n",
       "      <td>37</td>\n",
       "      <td>14</td>\n",
       "      <td>1</td>\n",
       "    </tr>\n",
       "    <tr>\n",
       "      <th>1</th>\n",
       "      <td>104</td>\n",
       "      <td>99</td>\n",
       "      <td>1</td>\n",
       "    </tr>\n",
       "    <tr>\n",
       "      <th>2</th>\n",
       "      <td>22</td>\n",
       "      <td>91</td>\n",
       "      <td>1</td>\n",
       "    </tr>\n",
       "    <tr>\n",
       "      <th>3</th>\n",
       "      <td>7</td>\n",
       "      <td>30</td>\n",
       "      <td>1</td>\n",
       "    </tr>\n",
       "    <tr>\n",
       "      <th>4</th>\n",
       "      <td>20</td>\n",
       "      <td>88</td>\n",
       "      <td>1</td>\n",
       "    </tr>\n",
       "  </tbody>\n",
       "</table>\n",
       "</div>"
      ],
      "text/plain": [
       "     x   y  Decision\n",
       "0   37  14         1\n",
       "1  104  99         1\n",
       "2   22  91         1\n",
       "3    7  30         1\n",
       "4   20  88         1"
      ]
     },
     "execution_count": 9,
     "metadata": {},
     "output_type": "execute_result"
    }
   ],
   "source": [
    "df.head()"
   ]
  },
  {
   "cell_type": "code",
   "execution_count": 10,
   "id": "spectacular-richards",
   "metadata": {},
   "outputs": [],
   "source": [
    "df.to_csv(\"xor.csv\", index = False)"
   ]
  },
  {
   "cell_type": "code",
   "execution_count": null,
   "id": "allied-universal",
   "metadata": {},
   "outputs": [],
   "source": []
  }
 ],
 "metadata": {
  "kernelspec": {
   "display_name": "Python 3",
   "language": "python",
   "name": "python3"
  },
  "language_info": {
   "codemirror_mode": {
    "name": "ipython",
    "version": 3
   },
   "file_extension": ".py",
   "mimetype": "text/x-python",
   "name": "python",
   "nbconvert_exporter": "python",
   "pygments_lexer": "ipython3",
   "version": "3.8.5"
  }
 },
 "nbformat": 4,
 "nbformat_minor": 5
}
